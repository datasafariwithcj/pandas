{
 "cells": [
  {
   "cell_type": "code",
   "execution_count": 1,
   "id": "1aa91135-97e0-49f3-b8e6-ca4bb850698b",
   "metadata": {
    "tags": []
   },
   "outputs": [],
   "source": [
    "import pandas as pd"
   ]
  },
  {
   "cell_type": "code",
   "execution_count": 2,
   "id": "7226e08b-44ba-4f93-89f8-ec7573ac3f9e",
   "metadata": {
    "tags": []
   },
   "outputs": [],
   "source": [
    "bigmac = pd.read_csv(\"bigmac.csv\", parse_dates=[\"Date\"], date_format= \"%m/%Y\")"
   ]
  },
  {
   "cell_type": "code",
   "execution_count": 3,
   "id": "c2c5752b-9f10-4a35-9c91-3c731c9a8c05",
   "metadata": {
    "tags": []
   },
   "outputs": [
    {
     "data": {
      "text/html": [
       "<div>\n",
       "<style scoped>\n",
       "    .dataframe tbody tr th:only-of-type {\n",
       "        vertical-align: middle;\n",
       "    }\n",
       "\n",
       "    .dataframe tbody tr th {\n",
       "        vertical-align: top;\n",
       "    }\n",
       "\n",
       "    .dataframe thead th {\n",
       "        text-align: right;\n",
       "    }\n",
       "</style>\n",
       "<table border=\"1\" class=\"dataframe\">\n",
       "  <thead>\n",
       "    <tr style=\"text-align: right;\">\n",
       "      <th></th>\n",
       "      <th></th>\n",
       "      <th>Price in US Dollars</th>\n",
       "    </tr>\n",
       "    <tr>\n",
       "      <th>Date</th>\n",
       "      <th>Country</th>\n",
       "      <th></th>\n",
       "    </tr>\n",
       "  </thead>\n",
       "  <tbody>\n",
       "    <tr>\n",
       "      <th rowspan=\"5\" valign=\"top\">2016-01-01</th>\n",
       "      <th>Argentina</th>\n",
       "      <td>2.39</td>\n",
       "    </tr>\n",
       "    <tr>\n",
       "      <th>Australia</th>\n",
       "      <td>3.74</td>\n",
       "    </tr>\n",
       "    <tr>\n",
       "      <th>Brazil</th>\n",
       "      <td>3.35</td>\n",
       "    </tr>\n",
       "    <tr>\n",
       "      <th>Britain</th>\n",
       "      <td>4.22</td>\n",
       "    </tr>\n",
       "    <tr>\n",
       "      <th>Canada</th>\n",
       "      <td>4.14</td>\n",
       "    </tr>\n",
       "    <tr>\n",
       "      <th>...</th>\n",
       "      <th>...</th>\n",
       "      <td>...</td>\n",
       "    </tr>\n",
       "    <tr>\n",
       "      <th rowspan=\"5\" valign=\"top\">2010-01-01</th>\n",
       "      <th>Turkey</th>\n",
       "      <td>3.83</td>\n",
       "    </tr>\n",
       "    <tr>\n",
       "      <th>UAE</th>\n",
       "      <td>2.99</td>\n",
       "    </tr>\n",
       "    <tr>\n",
       "      <th>Ukraine</th>\n",
       "      <td>1.83</td>\n",
       "    </tr>\n",
       "    <tr>\n",
       "      <th>United States</th>\n",
       "      <td>3.58</td>\n",
       "    </tr>\n",
       "    <tr>\n",
       "      <th>Uruguay</th>\n",
       "      <td>3.32</td>\n",
       "    </tr>\n",
       "  </tbody>\n",
       "</table>\n",
       "<p>652 rows × 1 columns</p>\n",
       "</div>"
      ],
      "text/plain": [
       "                          Price in US Dollars\n",
       "Date       Country                           \n",
       "2016-01-01 Argentina                     2.39\n",
       "           Australia                     3.74\n",
       "           Brazil                        3.35\n",
       "           Britain                       4.22\n",
       "           Canada                        4.14\n",
       "...                                       ...\n",
       "2010-01-01 Turkey                        3.83\n",
       "           UAE                           2.99\n",
       "           Ukraine                       1.83\n",
       "           United States                 3.58\n",
       "           Uruguay                       3.32\n",
       "\n",
       "[652 rows x 1 columns]"
      ]
     },
     "execution_count": 3,
     "metadata": {},
     "output_type": "execute_result"
    }
   ],
   "source": [
    "bigmac.set_index(keys = [\"Date\", \"Country\"])"
   ]
  },
  {
   "cell_type": "code",
   "execution_count": 4,
   "id": "af8d88eb-aad5-423a-9b69-d566cb9894b4",
   "metadata": {
    "tags": []
   },
   "outputs": [
    {
     "data": {
      "text/html": [
       "<div>\n",
       "<style scoped>\n",
       "    .dataframe tbody tr th:only-of-type {\n",
       "        vertical-align: middle;\n",
       "    }\n",
       "\n",
       "    .dataframe tbody tr th {\n",
       "        vertical-align: top;\n",
       "    }\n",
       "\n",
       "    .dataframe thead th {\n",
       "        text-align: right;\n",
       "    }\n",
       "</style>\n",
       "<table border=\"1\" class=\"dataframe\">\n",
       "  <thead>\n",
       "    <tr style=\"text-align: right;\">\n",
       "      <th></th>\n",
       "      <th></th>\n",
       "      <th>Price in US Dollars</th>\n",
       "    </tr>\n",
       "    <tr>\n",
       "      <th>Country</th>\n",
       "      <th>Date</th>\n",
       "      <th></th>\n",
       "    </tr>\n",
       "  </thead>\n",
       "  <tbody>\n",
       "    <tr>\n",
       "      <th rowspan=\"5\" valign=\"top\">Argentina</th>\n",
       "      <th>2010-01-01</th>\n",
       "      <td>1.84</td>\n",
       "    </tr>\n",
       "    <tr>\n",
       "      <th>2010-07-01</th>\n",
       "      <td>3.56</td>\n",
       "    </tr>\n",
       "    <tr>\n",
       "      <th>2011-07-01</th>\n",
       "      <td>4.84</td>\n",
       "    </tr>\n",
       "    <tr>\n",
       "      <th>2012-01-01</th>\n",
       "      <td>4.64</td>\n",
       "    </tr>\n",
       "    <tr>\n",
       "      <th>2012-07-01</th>\n",
       "      <td>4.16</td>\n",
       "    </tr>\n",
       "    <tr>\n",
       "      <th>...</th>\n",
       "      <th>...</th>\n",
       "      <td>...</td>\n",
       "    </tr>\n",
       "    <tr>\n",
       "      <th rowspan=\"5\" valign=\"top\">Vietnam</th>\n",
       "      <th>2014-01-01</th>\n",
       "      <td>2.84</td>\n",
       "    </tr>\n",
       "    <tr>\n",
       "      <th>2014-07-01</th>\n",
       "      <td>2.83</td>\n",
       "    </tr>\n",
       "    <tr>\n",
       "      <th>2015-01-01</th>\n",
       "      <td>2.81</td>\n",
       "    </tr>\n",
       "    <tr>\n",
       "      <th>2015-07-01</th>\n",
       "      <td>2.75</td>\n",
       "    </tr>\n",
       "    <tr>\n",
       "      <th>2016-01-01</th>\n",
       "      <td>2.67</td>\n",
       "    </tr>\n",
       "  </tbody>\n",
       "</table>\n",
       "<p>652 rows × 1 columns</p>\n",
       "</div>"
      ],
      "text/plain": [
       "                      Price in US Dollars\n",
       "Country   Date                           \n",
       "Argentina 2010-01-01                 1.84\n",
       "          2010-07-01                 3.56\n",
       "          2011-07-01                 4.84\n",
       "          2012-01-01                 4.64\n",
       "          2012-07-01                 4.16\n",
       "...                                   ...\n",
       "Vietnam   2014-01-01                 2.84\n",
       "          2014-07-01                 2.83\n",
       "          2015-01-01                 2.81\n",
       "          2015-07-01                 2.75\n",
       "          2016-01-01                 2.67\n",
       "\n",
       "[652 rows x 1 columns]"
      ]
     },
     "execution_count": 4,
     "metadata": {},
     "output_type": "execute_result"
    }
   ],
   "source": [
    "bigmac.set_index(keys= [\"Country\", \"Date\"]).sort_index()"
   ]
  },
  {
   "cell_type": "code",
   "execution_count": 5,
   "id": "c2f30e3e-c112-4e9c-b347-6f5164cd9169",
   "metadata": {
    "tags": []
   },
   "outputs": [
    {
     "data": {
      "text/plain": [
       "Date                    12\n",
       "Country                 58\n",
       "Price in US Dollars    330\n",
       "dtype: int64"
      ]
     },
     "execution_count": 5,
     "metadata": {},
     "output_type": "execute_result"
    }
   ],
   "source": [
    "bigmac.nunique()"
   ]
  },
  {
   "cell_type": "code",
   "execution_count": 6,
   "id": "812c746f-8633-41e6-ba11-072b13bef618",
   "metadata": {
    "tags": []
   },
   "outputs": [
    {
     "data": {
      "text/html": [
       "<div>\n",
       "<style scoped>\n",
       "    .dataframe tbody tr th:only-of-type {\n",
       "        vertical-align: middle;\n",
       "    }\n",
       "\n",
       "    .dataframe tbody tr th {\n",
       "        vertical-align: top;\n",
       "    }\n",
       "\n",
       "    .dataframe thead th {\n",
       "        text-align: right;\n",
       "    }\n",
       "</style>\n",
       "<table border=\"1\" class=\"dataframe\">\n",
       "  <thead>\n",
       "    <tr style=\"text-align: right;\">\n",
       "      <th></th>\n",
       "      <th></th>\n",
       "      <th>Price in US Dollars</th>\n",
       "    </tr>\n",
       "    <tr>\n",
       "      <th>Country</th>\n",
       "      <th>Date</th>\n",
       "      <th></th>\n",
       "    </tr>\n",
       "  </thead>\n",
       "  <tbody>\n",
       "    <tr>\n",
       "      <th rowspan=\"5\" valign=\"top\">Argentina</th>\n",
       "      <th>2010-01-01</th>\n",
       "      <td>1.84</td>\n",
       "    </tr>\n",
       "    <tr>\n",
       "      <th>2010-07-01</th>\n",
       "      <td>3.56</td>\n",
       "    </tr>\n",
       "    <tr>\n",
       "      <th>2011-07-01</th>\n",
       "      <td>4.84</td>\n",
       "    </tr>\n",
       "    <tr>\n",
       "      <th>2012-01-01</th>\n",
       "      <td>4.64</td>\n",
       "    </tr>\n",
       "    <tr>\n",
       "      <th>2012-07-01</th>\n",
       "      <td>4.16</td>\n",
       "    </tr>\n",
       "  </tbody>\n",
       "</table>\n",
       "</div>"
      ],
      "text/plain": [
       "                      Price in US Dollars\n",
       "Country   Date                           \n",
       "Argentina 2010-01-01                 1.84\n",
       "          2010-07-01                 3.56\n",
       "          2011-07-01                 4.84\n",
       "          2012-01-01                 4.64\n",
       "          2012-07-01                 4.16"
      ]
     },
     "execution_count": 6,
     "metadata": {},
     "output_type": "execute_result"
    }
   ],
   "source": [
    "bigmac = pd.read_csv(\"bigmac.csv\", parse_dates = [\"Date\"], date_format = \"%m/%Y\", index_col = [\"Country\", \"Date\"]).sort_index()\n",
    "bigmac.head()"
   ]
  },
  {
   "cell_type": "code",
   "execution_count": 7,
   "id": "8aefb549-11db-4f2b-aea7-2ceb13ee0aa8",
   "metadata": {
    "tags": []
   },
   "outputs": [
    {
     "data": {
      "text/plain": [
       "FrozenList(['Country', 'Date'])"
      ]
     },
     "execution_count": 7,
     "metadata": {},
     "output_type": "execute_result"
    }
   ],
   "source": [
    "bigmac.index.names"
   ]
  },
  {
   "cell_type": "code",
   "execution_count": 8,
   "id": "1094a420-2553-4d10-8495-fa8fb8c9db52",
   "metadata": {
    "tags": []
   },
   "outputs": [
    {
     "data": {
      "text/plain": [
       "('Argentina', Timestamp('2010-01-01 00:00:00'))"
      ]
     },
     "execution_count": 8,
     "metadata": {},
     "output_type": "execute_result"
    }
   ],
   "source": [
    "bigmac.index[0]"
   ]
  },
  {
   "cell_type": "code",
   "execution_count": 9,
   "id": "28ce4629-3a63-4458-84e9-f89717aaf8c5",
   "metadata": {
    "tags": []
   },
   "outputs": [
    {
     "data": {
      "text/plain": [
       "DatetimeIndex(['2010-01-01', '2010-07-01', '2011-07-01', '2012-01-01',\n",
       "               '2012-07-01', '2013-01-01', '2013-07-01', '2014-01-01',\n",
       "               '2014-07-01', '2015-01-01',\n",
       "               ...\n",
       "               '2014-01-01', '2014-07-01', '2015-01-01', '2015-07-01',\n",
       "               '2016-01-01', '2014-01-01', '2014-07-01', '2015-01-01',\n",
       "               '2015-07-01', '2016-01-01'],\n",
       "              dtype='datetime64[ns]', name='Date', length=652, freq=None)"
      ]
     },
     "execution_count": 9,
     "metadata": {},
     "output_type": "execute_result"
    }
   ],
   "source": [
    "bigmac.index.get_level_values(\"Date\")"
   ]
  },
  {
   "cell_type": "code",
   "execution_count": 10,
   "id": "5ccaeb3c-7523-4a3f-a347-de14a9c4ccdd",
   "metadata": {
    "tags": []
   },
   "outputs": [
    {
     "data": {
      "text/plain": [
       "Index(['Argentina', 'Argentina', 'Argentina', 'Argentina', 'Argentina',\n",
       "       'Argentina', 'Argentina', 'Argentina', 'Argentina', 'Argentina',\n",
       "       ...\n",
       "       'Venezuela', 'Venezuela', 'Venezuela', 'Venezuela', 'Venezuela',\n",
       "       'Vietnam', 'Vietnam', 'Vietnam', 'Vietnam', 'Vietnam'],\n",
       "      dtype='object', name='Country', length=652)"
      ]
     },
     "execution_count": 10,
     "metadata": {},
     "output_type": "execute_result"
    }
   ],
   "source": [
    "bigmac.index.get_level_values(0)"
   ]
  },
  {
   "cell_type": "code",
   "execution_count": 11,
   "id": "0c4d9374-9110-4fc0-afc9-60a5b87d4848",
   "metadata": {
    "tags": []
   },
   "outputs": [
    {
     "data": {
      "text/plain": [
       "Index(['Argentina', 'Argentina', 'Argentina', 'Argentina', 'Argentina',\n",
       "       'Argentina', 'Argentina', 'Argentina', 'Argentina', 'Argentina',\n",
       "       ...\n",
       "       'Venezuela', 'Venezuela', 'Venezuela', 'Venezuela', 'Venezuela',\n",
       "       'Vietnam', 'Vietnam', 'Vietnam', 'Vietnam', 'Vietnam'],\n",
       "      dtype='object', name='Country', length=652)"
      ]
     },
     "execution_count": 11,
     "metadata": {},
     "output_type": "execute_result"
    }
   ],
   "source": [
    "bigmac.index.get_level_values(\"Country\")"
   ]
  },
  {
   "cell_type": "code",
   "execution_count": 12,
   "id": "e6141be0-c1a8-4627-9ea1-cad7655a9890",
   "metadata": {
    "tags": []
   },
   "outputs": [
    {
     "data": {
      "text/plain": [
       "MultiIndex([('Argentina', '2010-01-01'),\n",
       "            ('Argentina', '2010-07-01'),\n",
       "            ('Argentina', '2011-07-01'),\n",
       "            ('Argentina', '2012-01-01'),\n",
       "            ('Argentina', '2012-07-01'),\n",
       "            ('Argentina', '2013-01-01'),\n",
       "            ('Argentina', '2013-07-01'),\n",
       "            ('Argentina', '2014-01-01'),\n",
       "            ('Argentina', '2014-07-01'),\n",
       "            ('Argentina', '2015-01-01'),\n",
       "            ...\n",
       "            ('Venezuela', '2014-01-01'),\n",
       "            ('Venezuela', '2014-07-01'),\n",
       "            ('Venezuela', '2015-01-01'),\n",
       "            ('Venezuela', '2015-07-01'),\n",
       "            ('Venezuela', '2016-01-01'),\n",
       "            (  'Vietnam', '2014-01-01'),\n",
       "            (  'Vietnam', '2014-07-01'),\n",
       "            (  'Vietnam', '2015-01-01'),\n",
       "            (  'Vietnam', '2015-07-01'),\n",
       "            (  'Vietnam', '2016-01-01')],\n",
       "           names=['Country', 'Date'], length=652)"
      ]
     },
     "execution_count": 12,
     "metadata": {},
     "output_type": "execute_result"
    }
   ],
   "source": [
    "bigmac.index"
   ]
  },
  {
   "cell_type": "code",
   "execution_count": 13,
   "id": "8e13f8c7-88dd-46e4-8e87-93dd7b961faa",
   "metadata": {
    "tags": []
   },
   "outputs": [
    {
     "data": {
      "text/plain": [
       "MultiIndex([('Argentina', '2010-01-01'),\n",
       "            ('Argentina', '2010-07-01'),\n",
       "            ('Argentina', '2011-07-01'),\n",
       "            ('Argentina', '2012-01-01'),\n",
       "            ('Argentina', '2012-07-01'),\n",
       "            ('Argentina', '2013-01-01'),\n",
       "            ('Argentina', '2013-07-01'),\n",
       "            ('Argentina', '2014-01-01'),\n",
       "            ('Argentina', '2014-07-01'),\n",
       "            ('Argentina', '2015-01-01'),\n",
       "            ...\n",
       "            ('Venezuela', '2014-01-01'),\n",
       "            ('Venezuela', '2014-07-01'),\n",
       "            ('Venezuela', '2015-01-01'),\n",
       "            ('Venezuela', '2015-07-01'),\n",
       "            ('Venezuela', '2016-01-01'),\n",
       "            (  'Vietnam', '2014-01-01'),\n",
       "            (  'Vietnam', '2014-07-01'),\n",
       "            (  'Vietnam', '2015-01-01'),\n",
       "            (  'Vietnam', '2015-07-01'),\n",
       "            (  'Vietnam', '2016-01-01')],\n",
       "           names=['Country Name', 'Time'], length=652)"
      ]
     },
     "execution_count": 13,
     "metadata": {},
     "output_type": "execute_result"
    }
   ],
   "source": [
    "bigmac.index.set_names(names = [\"Country Name\", \"Time\"], level = [0,1])"
   ]
  },
  {
   "cell_type": "code",
   "execution_count": 14,
   "id": "b41c8c68-1ba4-4ce3-a1b2-915828df340e",
   "metadata": {
    "tags": []
   },
   "outputs": [
    {
     "data": {
      "text/html": [
       "<div>\n",
       "<style scoped>\n",
       "    .dataframe tbody tr th:only-of-type {\n",
       "        vertical-align: middle;\n",
       "    }\n",
       "\n",
       "    .dataframe tbody tr th {\n",
       "        vertical-align: top;\n",
       "    }\n",
       "\n",
       "    .dataframe thead th {\n",
       "        text-align: right;\n",
       "    }\n",
       "</style>\n",
       "<table border=\"1\" class=\"dataframe\">\n",
       "  <thead>\n",
       "    <tr style=\"text-align: right;\">\n",
       "      <th></th>\n",
       "      <th></th>\n",
       "      <th>Price in US Dollars</th>\n",
       "    </tr>\n",
       "    <tr>\n",
       "      <th>Nation</th>\n",
       "      <th>Date</th>\n",
       "      <th></th>\n",
       "    </tr>\n",
       "  </thead>\n",
       "  <tbody>\n",
       "    <tr>\n",
       "      <th rowspan=\"5\" valign=\"top\">Argentina</th>\n",
       "      <th>2010-01-01</th>\n",
       "      <td>1.84</td>\n",
       "    </tr>\n",
       "    <tr>\n",
       "      <th>2010-07-01</th>\n",
       "      <td>3.56</td>\n",
       "    </tr>\n",
       "    <tr>\n",
       "      <th>2011-07-01</th>\n",
       "      <td>4.84</td>\n",
       "    </tr>\n",
       "    <tr>\n",
       "      <th>2012-01-01</th>\n",
       "      <td>4.64</td>\n",
       "    </tr>\n",
       "    <tr>\n",
       "      <th>2012-07-01</th>\n",
       "      <td>4.16</td>\n",
       "    </tr>\n",
       "  </tbody>\n",
       "</table>\n",
       "</div>"
      ],
      "text/plain": [
       "                      Price in US Dollars\n",
       "Nation    Date                           \n",
       "Argentina 2010-01-01                 1.84\n",
       "          2010-07-01                 3.56\n",
       "          2011-07-01                 4.84\n",
       "          2012-01-01                 4.64\n",
       "          2012-07-01                 4.16"
      ]
     },
     "execution_count": 14,
     "metadata": {},
     "output_type": "execute_result"
    }
   ],
   "source": [
    "bigmac.index = bigmac.index.set_names(names = \"Nation\", level = 0)\n",
    "bigmac.head()"
   ]
  },
  {
   "cell_type": "code",
   "execution_count": 15,
   "id": "4ee9ef8c-2f57-4aac-98bd-51730b349733",
   "metadata": {
    "tags": []
   },
   "outputs": [
    {
     "data": {
      "text/html": [
       "<div>\n",
       "<style scoped>\n",
       "    .dataframe tbody tr th:only-of-type {\n",
       "        vertical-align: middle;\n",
       "    }\n",
       "\n",
       "    .dataframe tbody tr th {\n",
       "        vertical-align: top;\n",
       "    }\n",
       "\n",
       "    .dataframe thead th {\n",
       "        text-align: right;\n",
       "    }\n",
       "</style>\n",
       "<table border=\"1\" class=\"dataframe\">\n",
       "  <thead>\n",
       "    <tr style=\"text-align: right;\">\n",
       "      <th></th>\n",
       "      <th></th>\n",
       "      <th>Price in US Dollars</th>\n",
       "    </tr>\n",
       "    <tr>\n",
       "      <th>Nation</th>\n",
       "      <th>Date</th>\n",
       "      <th></th>\n",
       "    </tr>\n",
       "  </thead>\n",
       "  <tbody>\n",
       "    <tr>\n",
       "      <th rowspan=\"5\" valign=\"top\">Vietnam</th>\n",
       "      <th>2016-01-01</th>\n",
       "      <td>2.67</td>\n",
       "    </tr>\n",
       "    <tr>\n",
       "      <th>2015-07-01</th>\n",
       "      <td>2.75</td>\n",
       "    </tr>\n",
       "    <tr>\n",
       "      <th>2015-01-01</th>\n",
       "      <td>2.81</td>\n",
       "    </tr>\n",
       "    <tr>\n",
       "      <th>2014-07-01</th>\n",
       "      <td>2.83</td>\n",
       "    </tr>\n",
       "    <tr>\n",
       "      <th>2014-01-01</th>\n",
       "      <td>2.84</td>\n",
       "    </tr>\n",
       "    <tr>\n",
       "      <th>...</th>\n",
       "      <th>...</th>\n",
       "      <td>...</td>\n",
       "    </tr>\n",
       "    <tr>\n",
       "      <th rowspan=\"5\" valign=\"top\">Argentina</th>\n",
       "      <th>2012-07-01</th>\n",
       "      <td>4.16</td>\n",
       "    </tr>\n",
       "    <tr>\n",
       "      <th>2012-01-01</th>\n",
       "      <td>4.64</td>\n",
       "    </tr>\n",
       "    <tr>\n",
       "      <th>2011-07-01</th>\n",
       "      <td>4.84</td>\n",
       "    </tr>\n",
       "    <tr>\n",
       "      <th>2010-07-01</th>\n",
       "      <td>3.56</td>\n",
       "    </tr>\n",
       "    <tr>\n",
       "      <th>2010-01-01</th>\n",
       "      <td>1.84</td>\n",
       "    </tr>\n",
       "  </tbody>\n",
       "</table>\n",
       "<p>652 rows × 1 columns</p>\n",
       "</div>"
      ],
      "text/plain": [
       "                      Price in US Dollars\n",
       "Nation    Date                           \n",
       "Vietnam   2016-01-01                 2.67\n",
       "          2015-07-01                 2.75\n",
       "          2015-01-01                 2.81\n",
       "          2014-07-01                 2.83\n",
       "          2014-01-01                 2.84\n",
       "...                                   ...\n",
       "Argentina 2012-07-01                 4.16\n",
       "          2012-01-01                 4.64\n",
       "          2011-07-01                 4.84\n",
       "          2010-07-01                 3.56\n",
       "          2010-01-01                 1.84\n",
       "\n",
       "[652 rows x 1 columns]"
      ]
     },
     "execution_count": 15,
     "metadata": {},
     "output_type": "execute_result"
    }
   ],
   "source": [
    "bigmac.sort_index(ascending = False)"
   ]
  },
  {
   "cell_type": "code",
   "execution_count": 16,
   "id": "e420eb9c-da34-4ae4-bde6-466010163142",
   "metadata": {
    "tags": []
   },
   "outputs": [
    {
     "data": {
      "text/html": [
       "<div>\n",
       "<style scoped>\n",
       "    .dataframe tbody tr th:only-of-type {\n",
       "        vertical-align: middle;\n",
       "    }\n",
       "\n",
       "    .dataframe tbody tr th {\n",
       "        vertical-align: top;\n",
       "    }\n",
       "\n",
       "    .dataframe thead th {\n",
       "        text-align: right;\n",
       "    }\n",
       "</style>\n",
       "<table border=\"1\" class=\"dataframe\">\n",
       "  <thead>\n",
       "    <tr style=\"text-align: right;\">\n",
       "      <th></th>\n",
       "      <th></th>\n",
       "      <th>Price in US Dollars</th>\n",
       "    </tr>\n",
       "    <tr>\n",
       "      <th>Nation</th>\n",
       "      <th>Date</th>\n",
       "      <th></th>\n",
       "    </tr>\n",
       "  </thead>\n",
       "  <tbody>\n",
       "    <tr>\n",
       "      <th rowspan=\"5\" valign=\"top\">Vietnam</th>\n",
       "      <th>2014-01-01</th>\n",
       "      <td>2.84</td>\n",
       "    </tr>\n",
       "    <tr>\n",
       "      <th>2014-07-01</th>\n",
       "      <td>2.83</td>\n",
       "    </tr>\n",
       "    <tr>\n",
       "      <th>2015-01-01</th>\n",
       "      <td>2.81</td>\n",
       "    </tr>\n",
       "    <tr>\n",
       "      <th>2015-07-01</th>\n",
       "      <td>2.75</td>\n",
       "    </tr>\n",
       "    <tr>\n",
       "      <th>2016-01-01</th>\n",
       "      <td>2.67</td>\n",
       "    </tr>\n",
       "    <tr>\n",
       "      <th>...</th>\n",
       "      <th>...</th>\n",
       "      <td>...</td>\n",
       "    </tr>\n",
       "    <tr>\n",
       "      <th rowspan=\"5\" valign=\"top\">Argentina</th>\n",
       "      <th>2014-01-01</th>\n",
       "      <td>3.03</td>\n",
       "    </tr>\n",
       "    <tr>\n",
       "      <th>2014-07-01</th>\n",
       "      <td>2.57</td>\n",
       "    </tr>\n",
       "    <tr>\n",
       "      <th>2015-01-01</th>\n",
       "      <td>3.25</td>\n",
       "    </tr>\n",
       "    <tr>\n",
       "      <th>2015-07-01</th>\n",
       "      <td>3.07</td>\n",
       "    </tr>\n",
       "    <tr>\n",
       "      <th>2016-01-01</th>\n",
       "      <td>2.39</td>\n",
       "    </tr>\n",
       "  </tbody>\n",
       "</table>\n",
       "<p>652 rows × 1 columns</p>\n",
       "</div>"
      ],
      "text/plain": [
       "                      Price in US Dollars\n",
       "Nation    Date                           \n",
       "Vietnam   2014-01-01                 2.84\n",
       "          2014-07-01                 2.83\n",
       "          2015-01-01                 2.81\n",
       "          2015-07-01                 2.75\n",
       "          2016-01-01                 2.67\n",
       "...                                   ...\n",
       "Argentina 2014-01-01                 3.03\n",
       "          2014-07-01                 2.57\n",
       "          2015-01-01                 3.25\n",
       "          2015-07-01                 3.07\n",
       "          2016-01-01                 2.39\n",
       "\n",
       "[652 rows x 1 columns]"
      ]
     },
     "execution_count": 16,
     "metadata": {},
     "output_type": "execute_result"
    }
   ],
   "source": [
    "bigmac.sort_index(ascending = [False, True])"
   ]
  },
  {
   "cell_type": "code",
   "execution_count": 17,
   "id": "18e505cc-8c4c-45ea-af3f-7e5c9d9d1acc",
   "metadata": {
    "tags": []
   },
   "outputs": [
    {
     "data": {
      "text/plain": [
       "Price in US Dollars    4.84\n",
       "Name: (Argentina, 2011-07-01 00:00:00), dtype: float64"
      ]
     },
     "execution_count": 17,
     "metadata": {},
     "output_type": "execute_result"
    }
   ],
   "source": [
    "bigmac.iloc[2]"
   ]
  },
  {
   "cell_type": "code",
   "execution_count": 18,
   "id": "b126f032-70b3-4491-abe7-90087b8b741c",
   "metadata": {
    "tags": []
   },
   "outputs": [
    {
     "data": {
      "text/plain": [
       "Price in US Dollars    3.03\n",
       "Name: (Argentina, 2014-01-01 00:00:00), dtype: float64"
      ]
     },
     "execution_count": 18,
     "metadata": {},
     "output_type": "execute_result"
    }
   ],
   "source": [
    "bigmac.loc[(\"Argentina\", \"2014-01-01\")]"
   ]
  },
  {
   "cell_type": "code",
   "execution_count": 19,
   "id": "30aa38ee-e4fa-4d4f-9870-e4368c580232",
   "metadata": {
    "tags": []
   },
   "outputs": [
    {
     "data": {
      "text/html": [
       "<div>\n",
       "<style scoped>\n",
       "    .dataframe tbody tr th:only-of-type {\n",
       "        vertical-align: middle;\n",
       "    }\n",
       "\n",
       "    .dataframe tbody tr th {\n",
       "        vertical-align: top;\n",
       "    }\n",
       "\n",
       "    .dataframe thead th {\n",
       "        text-align: right;\n",
       "    }\n",
       "</style>\n",
       "<table border=\"1\" class=\"dataframe\">\n",
       "  <thead>\n",
       "    <tr style=\"text-align: right;\">\n",
       "      <th></th>\n",
       "      <th>Price in US Dollars</th>\n",
       "    </tr>\n",
       "    <tr>\n",
       "      <th>Date</th>\n",
       "      <th></th>\n",
       "    </tr>\n",
       "  </thead>\n",
       "  <tbody>\n",
       "    <tr>\n",
       "      <th>2010-01-01</th>\n",
       "      <td>1.84</td>\n",
       "    </tr>\n",
       "    <tr>\n",
       "      <th>2010-07-01</th>\n",
       "      <td>3.56</td>\n",
       "    </tr>\n",
       "    <tr>\n",
       "      <th>2011-07-01</th>\n",
       "      <td>4.84</td>\n",
       "    </tr>\n",
       "    <tr>\n",
       "      <th>2012-01-01</th>\n",
       "      <td>4.64</td>\n",
       "    </tr>\n",
       "    <tr>\n",
       "      <th>2012-07-01</th>\n",
       "      <td>4.16</td>\n",
       "    </tr>\n",
       "    <tr>\n",
       "      <th>2013-01-01</th>\n",
       "      <td>3.82</td>\n",
       "    </tr>\n",
       "    <tr>\n",
       "      <th>2013-07-01</th>\n",
       "      <td>3.88</td>\n",
       "    </tr>\n",
       "    <tr>\n",
       "      <th>2014-01-01</th>\n",
       "      <td>3.03</td>\n",
       "    </tr>\n",
       "    <tr>\n",
       "      <th>2014-07-01</th>\n",
       "      <td>2.57</td>\n",
       "    </tr>\n",
       "    <tr>\n",
       "      <th>2015-01-01</th>\n",
       "      <td>3.25</td>\n",
       "    </tr>\n",
       "    <tr>\n",
       "      <th>2015-07-01</th>\n",
       "      <td>3.07</td>\n",
       "    </tr>\n",
       "    <tr>\n",
       "      <th>2016-01-01</th>\n",
       "      <td>2.39</td>\n",
       "    </tr>\n",
       "  </tbody>\n",
       "</table>\n",
       "</div>"
      ],
      "text/plain": [
       "            Price in US Dollars\n",
       "Date                           \n",
       "2010-01-01                 1.84\n",
       "2010-07-01                 3.56\n",
       "2011-07-01                 4.84\n",
       "2012-01-01                 4.64\n",
       "2012-07-01                 4.16\n",
       "2013-01-01                 3.82\n",
       "2013-07-01                 3.88\n",
       "2014-01-01                 3.03\n",
       "2014-07-01                 2.57\n",
       "2015-01-01                 3.25\n",
       "2015-07-01                 3.07\n",
       "2016-01-01                 2.39"
      ]
     },
     "execution_count": 19,
     "metadata": {},
     "output_type": "execute_result"
    }
   ],
   "source": [
    "bigmac.loc[\"Argentina\"]"
   ]
  },
  {
   "cell_type": "code",
   "execution_count": null,
   "id": "274f2579",
   "metadata": {},
   "outputs": [],
   "source": []
  }
 ],
 "metadata": {
  "kernelspec": {
   "display_name": "Python 3",
   "language": "python",
   "name": "python3"
  },
  "language_info": {
   "codemirror_mode": {
    "name": "ipython",
    "version": 3
   },
   "file_extension": ".py",
   "mimetype": "text/x-python",
   "name": "python",
   "nbconvert_exporter": "python",
   "pygments_lexer": "ipython3",
   "version": "3.13.5"
  }
 },
 "nbformat": 4,
 "nbformat_minor": 5
}
